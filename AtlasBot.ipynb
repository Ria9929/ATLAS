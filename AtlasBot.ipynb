{
  "nbformat": 4,
  "nbformat_minor": 0,
  "metadata": {
    "colab": {
      "name": "AtlasBot.ipynb",
      "provenance": [],
      "collapsed_sections": []
    },
    "kernelspec": {
      "name": "python3",
      "display_name": "Python 3"
    }
  },
  "cells": [
    {
      "cell_type": "code",
      "metadata": {
        "id": "AXaVZb5bX4me",
        "colab_type": "code",
        "colab": {}
      },
      "source": [
        "import pandas as pd\n",
        "import numpy as np\n",
        "import nltk"
      ],
      "execution_count": null,
      "outputs": []
    },
    {
      "cell_type": "code",
      "metadata": {
        "id": "-W4cre8majjX",
        "colab_type": "code",
        "colab": {}
      },
      "source": [
        "t=pd.read_csv('/content/country-list.csv')"
      ],
      "execution_count": null,
      "outputs": []
    },
    {
      "cell_type": "code",
      "metadata": {
        "id": "g6q5xO4havn2",
        "colab_type": "code",
        "colab": {
          "base_uri": "https://localhost:8080/",
          "height": 195
        },
        "outputId": "75316307-71fc-4aaa-e7ad-8cbd1d878f70"
      },
      "source": [
        "t.head()"
      ],
      "execution_count": null,
      "outputs": [
        {
          "output_type": "execute_result",
          "data": {
            "text/html": [
              "<div>\n",
              "<style scoped>\n",
              "    .dataframe tbody tr th:only-of-type {\n",
              "        vertical-align: middle;\n",
              "    }\n",
              "\n",
              "    .dataframe tbody tr th {\n",
              "        vertical-align: top;\n",
              "    }\n",
              "\n",
              "    .dataframe thead th {\n",
              "        text-align: right;\n",
              "    }\n",
              "</style>\n",
              "<table border=\"1\" class=\"dataframe\">\n",
              "  <thead>\n",
              "    <tr style=\"text-align: right;\">\n",
              "      <th></th>\n",
              "      <th>country</th>\n",
              "      <th>capital</th>\n",
              "      <th>type</th>\n",
              "    </tr>\n",
              "  </thead>\n",
              "  <tbody>\n",
              "    <tr>\n",
              "      <th>0</th>\n",
              "      <td>Abkhazia</td>\n",
              "      <td>Sukhumi</td>\n",
              "      <td>countryCapital</td>\n",
              "    </tr>\n",
              "    <tr>\n",
              "      <th>1</th>\n",
              "      <td>Afghanistan</td>\n",
              "      <td>Kabul</td>\n",
              "      <td>countryCapital</td>\n",
              "    </tr>\n",
              "    <tr>\n",
              "      <th>2</th>\n",
              "      <td>Akrotiri and Dhekelia</td>\n",
              "      <td>Episkopi Cantonment</td>\n",
              "      <td>countryCapital</td>\n",
              "    </tr>\n",
              "    <tr>\n",
              "      <th>3</th>\n",
              "      <td>Albania</td>\n",
              "      <td>Tirana</td>\n",
              "      <td>countryCapital</td>\n",
              "    </tr>\n",
              "    <tr>\n",
              "      <th>4</th>\n",
              "      <td>Algeria</td>\n",
              "      <td>Algiers</td>\n",
              "      <td>countryCapital</td>\n",
              "    </tr>\n",
              "  </tbody>\n",
              "</table>\n",
              "</div>"
            ],
            "text/plain": [
              "                 country              capital            type\n",
              "0               Abkhazia              Sukhumi  countryCapital\n",
              "1            Afghanistan                Kabul  countryCapital\n",
              "2  Akrotiri and Dhekelia  Episkopi Cantonment  countryCapital\n",
              "3                Albania               Tirana  countryCapital\n",
              "4                Algeria              Algiers  countryCapital"
            ]
          },
          "metadata": {
            "tags": []
          },
          "execution_count": 4
        }
      ]
    },
    {
      "cell_type": "code",
      "metadata": {
        "id": "BQkn-sPta2UW",
        "colab_type": "code",
        "colab": {
          "base_uri": "https://localhost:8080/",
          "height": 54
        },
        "outputId": "51fe83be-63ba-49b8-ad26-76487bc57e2a"
      },
      "source": [
        "Countries=t['country'].to_list()\n",
        "print(Countries)"
      ],
      "execution_count": null,
      "outputs": [
        {
          "output_type": "stream",
          "text": [
            "['Abkhazia', 'Afghanistan', 'Akrotiri and Dhekelia', 'Albania', 'Algeria', 'American Samoa', 'Andorra', 'Angola', 'Anguilla', 'Antigua and Barbuda', 'Argentina', 'Armenia', 'Aruba', 'Ascension Island', 'Australia', 'Austria', 'Azerbaijan', 'Bahamas', 'Bahrain', 'Bangladesh', 'Barbados', 'Belarus', 'Belgium', 'Belize', 'Benin', 'Bermuda', 'Bhutan', 'Bolivia', 'Bolivia', 'Bosnia and Herzegovina', 'Botswana', 'Brazil', 'British Virgin Islands', 'Brunei', 'Bulgaria', 'Burkina Faso', 'Burundi', 'Cambodia', 'Cameroon', 'Canada', 'Cape Verde', 'Cayman Islands', 'Central African Republic', 'Chad', 'Chile', 'China', 'Christmas Island', 'Cocos (Keeling) Islands', 'Colombia', 'Comoros', 'Cook Islands', 'Costa Rica', 'Croatia', 'Cuba', 'Curaçao', 'Cyprus', 'Czech Republic', \"Côte d'Ivoire\", 'Democratic Republic of the Congo', 'Denmark', 'Djibouti', 'Dominica', 'Dominican Republic', 'East Timor (Timor-Leste)', 'Easter Island', 'Ecuador', 'Egypt', 'El Salvador', 'Equatorial Guinea', 'Eritrea', 'Estonia', 'Ethiopia', 'Falkland Islands', 'Faroe Islands', 'Federated States of Micronesia', 'Fiji', 'Finland', 'France', 'French Guiana', 'French Polynesia', 'Gabon', 'Gambia', 'Georgia', 'Germany', 'Ghana', 'Gibraltar', 'Greece', 'Greenland', 'Grenada', 'Guam', 'Guatemala', 'Guernsey', 'Guinea', 'Guinea-Bissau', 'Guyana', 'Haiti', 'Honduras', 'Hungary', 'Iceland', 'India', 'Indonesia', 'Iran', 'Iraq', 'Ireland', 'Isle of Man', 'Israel', 'Italy', 'Jamaica', 'Japan', 'Jersey', 'Jordan', 'Kazakhstan', 'Kenya', 'Kiribati', 'Kosovo', 'Kuwait', 'Kyrgyzstan', 'Laos', 'Latvia', 'Lebanon', 'Lesotho', 'Liberia', 'Libya', 'Liechtenstein', 'Lithuania', 'Luxembourg', 'Macedonia', 'Madagascar', 'Malawi', 'Malaysia', 'Maldives', 'Mali', 'Malta', 'Marshall Islands', 'Mauritania', 'Mauritius', 'Mexico', 'Moldova', 'Monaco', 'Mongolia', 'Montenegro', 'Montserrat', 'Morocco', 'Mozambique', 'Myanmar', 'Nagorno-Karabakh Republic', 'Namibia', 'Nauru', 'Nepal', 'Netherlands', 'New Caledonia', 'New Zealand', 'Nicaragua', 'Niger', 'Nigeria', 'Niue', 'Norfolk Island', 'North Korea', 'Northern Cyprus', 'United Kingdom Northern Ireland', 'Northern Mariana Islands', 'Norway', 'Oman', 'Pakistan', 'Palau', 'Palestine', 'Panama', 'Papua New Guinea', 'Paraguay', 'Peru', 'Philippines', 'Pitcairn Islands', 'Poland', 'Portugal', 'Puerto Rico', 'Qatar', 'Republic of China (Taiwan)', 'Republic of the Congo', 'Romania', 'Russia', 'Rwanda', 'Saint Barthélemy', 'Saint Helena', 'Saint Kitts and Nevis', 'Saint Lucia', 'Saint Martin', 'Saint Pierre and Miquelon', 'Saint Vincent and the Grenadines', 'Samoa', 'San Marino', 'Saudi Arabia', 'Scotland', 'Senegal', 'Serbia', 'Seychelles', 'Sierra Leone', 'Singapore', 'Sint Maarten', 'Slovakia', 'Slovenia', 'Solomon Islands', 'Somalia', 'Somaliland', 'South Africa', 'South Georgia and the South Sandwich Islands', 'South Korea', 'South Ossetia', 'South Sudan South Sudan', 'Spain', 'Sri Lanka', 'Sudan', 'Suriname', 'Swaziland', 'Sweden', 'Switzerland', 'Syria', 'São Tomé and Príncipe', 'Tajikistan', 'Tanzania', 'Thailand', 'Togo', 'Tonga', 'Transnistria', 'Trinidad and Tobago', 'Tristan da Cunha', 'Tunisia', 'Turkey', 'Turkmenistan', 'Turks and Caicos Islands', 'Tuvalu', 'Uganda', 'Ukraine', 'United Arab Emirates', 'United Kingdom; England', 'United States', 'United States Virgin Islands', 'Uruguay', 'Uzbekistan', 'Vanuatu', 'Vatican City', 'Venezuela', 'Vietnam', 'Wales', 'Wallis and Futuna', 'Western Sahara', 'Yemen', 'Zambia', 'Zimbabwe']\n"
          ],
          "name": "stdout"
        }
      ]
    },
    {
      "cell_type": "code",
      "metadata": {
        "id": "RP2OA_-vbhD6",
        "colab_type": "code",
        "colab": {
          "base_uri": "https://localhost:8080/",
          "height": 54
        },
        "outputId": "46a31def-c505-468b-cd45-523da30658f7"
      },
      "source": [
        "\n",
        "Capitals=t['capital'].to_list()\n",
        "C=sorted(Capitals)\n",
        "print(C)"
      ],
      "execution_count": null,
      "outputs": [
        {
          "output_type": "stream",
          "text": [
            "['Abu Dhabi', 'Abuja', 'Accra', 'Adamstown', 'Addis Ababa', 'Algiers', 'Alofi', 'Amman', 'Amsterdam', 'Andorra la Vella', 'Ankara', 'Antananarivo', 'Apia', 'Ashgabat', 'Asmara', 'Astana', 'Asunción', 'Athens', 'Avarua', 'Baghdad', 'Baku', 'Bamako', 'Bandar Seri Begawan', 'Bangkok', 'Bangui', 'Banjul', 'Basseterre', 'Beijing', 'Beirut', 'Belfast', 'Belgrade', 'Belmopan', 'Berlin', 'Bern', 'Bishkek', 'Bissau', 'Bogotá', 'Brasília', 'Bratislava', 'Brazzaville', 'Bridgetown', 'Brussels', 'Bucharest', 'Budapest', 'Buenos Aires', 'Bujumbura', 'Cairo', 'Canberra', 'Caracas', 'Cardiff', 'Castries', 'Cayenne', 'Charlotte Amalie', 'Chisinau', 'Cockburn Town', 'Conakry', 'Copenhagen', 'Dakar', 'Damascus', 'Dhaka', 'Dili', 'Djibouti', 'Dodoma', 'Doha', 'Douglas', 'Dublin', 'Dushanbe', 'Edinburgh', 'Edinburgh of the Seven Seas', 'El Aaiún', 'Episkopi Cantonment', 'Flying Fish Cove', 'Freetown', 'Funafuti', 'Gaborone', 'George Town', 'Georgetown', 'Georgetown', 'Gibraltar', 'Grytviken', 'Guatemala City', 'Gustavia', 'Hagåtña', 'Hamilton', 'Hanga Roa', 'Hanoi', 'Harare', 'Hargeisa', 'Havana', 'Helsinki', 'Honiara', 'Islamabad', 'Jakarta', 'Jamestown', 'Jerusalem', 'Jerusalem', 'Juba', 'Kabul', 'Kampala', 'Kathmandu', 'Khartoum', 'Kiev', 'Kigali', 'Kingston', 'Kingston', 'Kingstown', 'Kinshasa', 'Kuala Lumpur', 'Kuwait City', 'La Paz', 'Libreville', 'Lilongwe', 'Lima', 'Lisbon', 'Ljubljana', 'Lomé', 'London', 'Luanda', 'Lusaka', 'Luxembourg', 'Madrid', 'Majuro', 'Malabo', 'Malé', 'Managua', 'Manama', 'Manila', 'Maputo', 'Marigot', 'Maseru', 'Mata-Utu', 'Mbabane', 'Mexico City', 'Minsk', 'Mogadishu', 'Monaco', 'Monrovia', 'Montevideo', 'Moroni', 'Moscow', 'Muscat', \"N'Djamena\", 'Nairobi', 'Nassau', 'Naypyidaw', 'New Delhi', 'Ngerulmud', 'Niamey', 'Nicosia', 'Nicosia', 'Nouakchott', 'Nouméa', 'Nukuʻalofa', 'Nuuk', 'Oranjestad', 'Oslo', 'Ottawa', 'Ouagadougou', 'Pago Pago', 'Palikir', 'Panama City', 'Papeete', 'Paramaribo', 'Paris', 'Philipsburg', 'Phnom Penh', 'Plymouth', 'Podgorica', 'Port Louis', 'Port Moresby', 'Port Vila', 'Port of Spain', 'Port-au-Prince', 'Porto-Novo', 'Prague', 'Praia', 'Pretoria', 'Pristina', 'Pyongyang', 'Quito', 'Rabat', 'Reykjavík', 'Riga', 'Riyadh', 'Road Town', 'Rome', 'Roseau', 'Saipan', 'San José', 'San Juan', 'San Marino', 'San Salvador', 'Sanaá', 'Santiago', 'Santo Domingo', 'Sarajevo', 'Seoul', 'Singapore', 'Skopje', 'Sofia', 'Sri Jayawardenapura Kotte', \"St. George's\", 'St. Helier', \"St. John's\", 'St. Peter Port', 'St. Pierre', 'Stanley', 'Stepanakert', 'Stockholm', 'Sucre', 'Sukhumi', 'Suva', 'São Tomé', 'Taipei', 'Tallinn', 'Tarawa', 'Tashkent', 'Tbilisi', 'Tegucigalpa', 'Tehran', 'The Valley', 'Thimphu', 'Tirana', 'Tiraspol', 'Tokyo', 'Tripoli', 'Tskhinvali', 'Tunis', 'Tórshavn', 'Ulaanbaatar', 'Vaduz', 'Valletta', 'Vatican City', 'Victoria', 'Vienna', 'Vientiane', 'Vilnius', 'Warsaw', 'Washington, D.C.', 'Wellington', 'West Island', 'Willemstad', 'Windhoek', 'Yamoussoukro', 'Yaoundé', 'Yaren', 'Yerevan', 'Zagreb']\n"
          ],
          "name": "stdout"
        }
      ]
    },
    {
      "cell_type": "code",
      "metadata": {
        "id": "ATwtNXwRgpLT",
        "colab_type": "code",
        "colab": {}
      },
      "source": [
        "class Atlas_Shiritori:\n",
        "\n",
        "  def __init__(self):\n",
        "    self.words=[]\n",
        "    self.game_over=False\n",
        "    \n",
        "  def input_from_user(new):\n",
        "    if new in Countries:\n",
        "      if self.words==[] or (new[0].lower()==self.words[-1][-1] and new not in self.words):\n",
        "        self.words.append(new)\n",
        "    elif new in C:\n",
        "      if self.words==[] or (new[0].lower()==self.words[-1][-1] and new not in self.words):\n",
        "        self.words.append(new)\n",
        "    return \"game over\"\n",
        "\n",
        "  def restart(self):\n",
        "    self.__init__()\n",
        "    return \"game restarted\"\n",
        "\n",
        "  def respond(self,u):\n",
        "    if u in C:\n",
        "      for i in C:\n",
        "        if i[0].lower()==u[-1] and (i not in self.words) and (i is not None):\n",
        "          return i\n",
        "          self.words.append(k)\n",
        "    elif u in Countries:\n",
        "      for k in Countries:\n",
        "        if k[0].lower()==u[-1] and (k not in self.words)and (k is not None):\n",
        "          return k\n",
        "          self.words.append(k)\n",
        "  \n",
        "\n",
        "  def converse(self,quit=\"quit\"):\n",
        "    user_input=\"\"\n",
        "    while user_input!=quit and user_input not in self.words:\n",
        "      user_input=quit\n",
        "      try:\n",
        "        user_input = input(\">\")\n",
        "      except EOFError:\n",
        "        print(user_input)\n",
        "        self.input_from_user(user_input)  \n",
        "      print(self.respond(user_input))\n",
        "                  "
      ],
      "execution_count": null,
      "outputs": []
    },
    {
      "cell_type": "code",
      "metadata": {
        "id": "UN2SPbn49Kmn",
        "colab_type": "code",
        "colab": {}
      },
      "source": [
        "atlas=Atlas_Shiritori()"
      ],
      "execution_count": null,
      "outputs": []
    },
    {
      "cell_type": "code",
      "metadata": {
        "id": "2rRSr-Cb6O-X",
        "colab_type": "code",
        "colab": {}
      },
      "source": [
        "def atlas_bot():\n",
        "  print(\"This is a geographical Word-chain game bot.The game has 3 rules:\")\n",
        "  print(\"1. First character of next word must match last character of previous word.\")\n",
        "  print(\"2. Word must not have been already said\")\n",
        "  print(\"3. Word must be the name of an existing country or it's capital\")\n",
        "  print(\"=\"*72)\n",
        "  print(\"Hello!I am Atlas,the geography-word chain bot.Type out the name of  Country or it's capital after the prompt\")\n",
        "  atlas.converse()  \n"
      ],
      "execution_count": null,
      "outputs": []
    },
    {
      "cell_type": "code",
      "metadata": {
        "id": "tsWZmXWa7JE7",
        "colab_type": "code",
        "colab": {
          "base_uri": "https://localhost:8080/",
          "height": 218
        },
        "outputId": "805171e2-50e4-4416-a861-f70d23f14206"
      },
      "source": [
        "if __name__==\"__main__\":\n",
        "  atlas_bot()"
      ],
      "execution_count": null,
      "outputs": [
        {
          "output_type": "stream",
          "text": [
            "This is a geographical Word-chain game bot.The game has 3 rules:\n",
            "1. First character of next word must match last character of previous word.\n",
            "2. Word must not have been already said\n",
            "3. Word must be the name of an existing country or it's capital\n",
            "========================================================================\n",
            "Hello!I am Atlas,the geography-word chain bot.Type out the name of  Country or it's capital after the prompt\n",
            ">Sukhumi\n",
            "Islamabad\n",
            ">Denmark\n",
            "Kazakhstan\n",
            ">quit\n",
            "None\n"
          ],
          "name": "stdout"
        }
      ]
    }
  ]
}